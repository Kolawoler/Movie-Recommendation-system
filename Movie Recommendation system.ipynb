{
 "cells": [
  {
   "cell_type": "code",
   "execution_count": 30,
   "id": "6542cd87",
   "metadata": {},
   "outputs": [],
   "source": [
    "import pandas as pd\n",
    "import numpy as np\n",
    "from sklearn.feature_extraction.text import TfidfVectorizer # a transformer that will transform text to numerics\n",
    "from sklearn.metrics.pairwise import cosine_similarity # will return an array of values that shows the similarity between movies\n",
    "import difflib # it will returned  most similar keywords from the list of all keywords"
   ]
  },
  {
   "cell_type": "code",
   "execution_count": 2,
   "id": "87b405b4",
   "metadata": {},
   "outputs": [],
   "source": [
    "movies_df = pd.read_csv(r\"C:\\Users\\Rotimi\\Downloads\\movies.csv\")"
   ]
  },
  {
   "cell_type": "code",
   "execution_count": 4,
   "id": "23d7442b",
   "metadata": {},
   "outputs": [],
   "source": [
    "pd.set_option(\"display.max_columns\",5000)"
   ]
  },
  {
   "cell_type": "code",
   "execution_count": 5,
   "id": "72247105",
   "metadata": {},
   "outputs": [
    {
     "data": {
      "text/html": [
       "<div>\n",
       "<style scoped>\n",
       "    .dataframe tbody tr th:only-of-type {\n",
       "        vertical-align: middle;\n",
       "    }\n",
       "\n",
       "    .dataframe tbody tr th {\n",
       "        vertical-align: top;\n",
       "    }\n",
       "\n",
       "    .dataframe thead th {\n",
       "        text-align: right;\n",
       "    }\n",
       "</style>\n",
       "<table border=\"1\" class=\"dataframe\">\n",
       "  <thead>\n",
       "    <tr style=\"text-align: right;\">\n",
       "      <th></th>\n",
       "      <th>index</th>\n",
       "      <th>budget</th>\n",
       "      <th>genres</th>\n",
       "      <th>homepage</th>\n",
       "      <th>id</th>\n",
       "      <th>keywords</th>\n",
       "      <th>original_language</th>\n",
       "      <th>original_title</th>\n",
       "      <th>overview</th>\n",
       "      <th>popularity</th>\n",
       "      <th>production_companies</th>\n",
       "      <th>production_countries</th>\n",
       "      <th>release_date</th>\n",
       "      <th>revenue</th>\n",
       "      <th>runtime</th>\n",
       "      <th>spoken_languages</th>\n",
       "      <th>status</th>\n",
       "      <th>tagline</th>\n",
       "      <th>title</th>\n",
       "      <th>vote_average</th>\n",
       "      <th>vote_count</th>\n",
       "      <th>cast</th>\n",
       "      <th>crew</th>\n",
       "      <th>director</th>\n",
       "    </tr>\n",
       "  </thead>\n",
       "  <tbody>\n",
       "    <tr>\n",
       "      <th>0</th>\n",
       "      <td>0</td>\n",
       "      <td>237000000</td>\n",
       "      <td>Action Adventure Fantasy Science Fiction</td>\n",
       "      <td>http://www.avatarmovie.com/</td>\n",
       "      <td>19995</td>\n",
       "      <td>culture clash future space war space colony so...</td>\n",
       "      <td>en</td>\n",
       "      <td>Avatar</td>\n",
       "      <td>In the 22nd century, a paraplegic Marine is di...</td>\n",
       "      <td>150.437577</td>\n",
       "      <td>[{\"name\": \"Ingenious Film Partners\", \"id\": 289...</td>\n",
       "      <td>[{\"iso_3166_1\": \"US\", \"name\": \"United States o...</td>\n",
       "      <td>2009-12-10</td>\n",
       "      <td>2787965087</td>\n",
       "      <td>162.0</td>\n",
       "      <td>[{\"iso_639_1\": \"en\", \"name\": \"English\"}, {\"iso...</td>\n",
       "      <td>Released</td>\n",
       "      <td>Enter the World of Pandora.</td>\n",
       "      <td>Avatar</td>\n",
       "      <td>7.2</td>\n",
       "      <td>11800</td>\n",
       "      <td>Sam Worthington Zoe Saldana Sigourney Weaver S...</td>\n",
       "      <td>[{'name': 'Stephen E. Rivkin', 'gender': 0, 'd...</td>\n",
       "      <td>James Cameron</td>\n",
       "    </tr>\n",
       "    <tr>\n",
       "      <th>1</th>\n",
       "      <td>1</td>\n",
       "      <td>300000000</td>\n",
       "      <td>Adventure Fantasy Action</td>\n",
       "      <td>http://disney.go.com/disneypictures/pirates/</td>\n",
       "      <td>285</td>\n",
       "      <td>ocean drug abuse exotic island east india trad...</td>\n",
       "      <td>en</td>\n",
       "      <td>Pirates of the Caribbean: At World's End</td>\n",
       "      <td>Captain Barbossa, long believed to be dead, ha...</td>\n",
       "      <td>139.082615</td>\n",
       "      <td>[{\"name\": \"Walt Disney Pictures\", \"id\": 2}, {\"...</td>\n",
       "      <td>[{\"iso_3166_1\": \"US\", \"name\": \"United States o...</td>\n",
       "      <td>2007-05-19</td>\n",
       "      <td>961000000</td>\n",
       "      <td>169.0</td>\n",
       "      <td>[{\"iso_639_1\": \"en\", \"name\": \"English\"}]</td>\n",
       "      <td>Released</td>\n",
       "      <td>At the end of the world, the adventure begins.</td>\n",
       "      <td>Pirates of the Caribbean: At World's End</td>\n",
       "      <td>6.9</td>\n",
       "      <td>4500</td>\n",
       "      <td>Johnny Depp Orlando Bloom Keira Knightley Stel...</td>\n",
       "      <td>[{'name': 'Dariusz Wolski', 'gender': 2, 'depa...</td>\n",
       "      <td>Gore Verbinski</td>\n",
       "    </tr>\n",
       "    <tr>\n",
       "      <th>2</th>\n",
       "      <td>2</td>\n",
       "      <td>245000000</td>\n",
       "      <td>Action Adventure Crime</td>\n",
       "      <td>http://www.sonypictures.com/movies/spectre/</td>\n",
       "      <td>206647</td>\n",
       "      <td>spy based on novel secret agent sequel mi6</td>\n",
       "      <td>en</td>\n",
       "      <td>Spectre</td>\n",
       "      <td>A cryptic message from Bond’s past sends him o...</td>\n",
       "      <td>107.376788</td>\n",
       "      <td>[{\"name\": \"Columbia Pictures\", \"id\": 5}, {\"nam...</td>\n",
       "      <td>[{\"iso_3166_1\": \"GB\", \"name\": \"United Kingdom\"...</td>\n",
       "      <td>2015-10-26</td>\n",
       "      <td>880674609</td>\n",
       "      <td>148.0</td>\n",
       "      <td>[{\"iso_639_1\": \"fr\", \"name\": \"Fran\\u00e7ais\"},...</td>\n",
       "      <td>Released</td>\n",
       "      <td>A Plan No One Escapes</td>\n",
       "      <td>Spectre</td>\n",
       "      <td>6.3</td>\n",
       "      <td>4466</td>\n",
       "      <td>Daniel Craig Christoph Waltz L\\u00e9a Seydoux ...</td>\n",
       "      <td>[{'name': 'Thomas Newman', 'gender': 2, 'depar...</td>\n",
       "      <td>Sam Mendes</td>\n",
       "    </tr>\n",
       "    <tr>\n",
       "      <th>3</th>\n",
       "      <td>3</td>\n",
       "      <td>250000000</td>\n",
       "      <td>Action Crime Drama Thriller</td>\n",
       "      <td>http://www.thedarkknightrises.com/</td>\n",
       "      <td>49026</td>\n",
       "      <td>dc comics crime fighter terrorist secret ident...</td>\n",
       "      <td>en</td>\n",
       "      <td>The Dark Knight Rises</td>\n",
       "      <td>Following the death of District Attorney Harve...</td>\n",
       "      <td>112.312950</td>\n",
       "      <td>[{\"name\": \"Legendary Pictures\", \"id\": 923}, {\"...</td>\n",
       "      <td>[{\"iso_3166_1\": \"US\", \"name\": \"United States o...</td>\n",
       "      <td>2012-07-16</td>\n",
       "      <td>1084939099</td>\n",
       "      <td>165.0</td>\n",
       "      <td>[{\"iso_639_1\": \"en\", \"name\": \"English\"}]</td>\n",
       "      <td>Released</td>\n",
       "      <td>The Legend Ends</td>\n",
       "      <td>The Dark Knight Rises</td>\n",
       "      <td>7.6</td>\n",
       "      <td>9106</td>\n",
       "      <td>Christian Bale Michael Caine Gary Oldman Anne ...</td>\n",
       "      <td>[{'name': 'Hans Zimmer', 'gender': 2, 'departm...</td>\n",
       "      <td>Christopher Nolan</td>\n",
       "    </tr>\n",
       "    <tr>\n",
       "      <th>4</th>\n",
       "      <td>4</td>\n",
       "      <td>260000000</td>\n",
       "      <td>Action Adventure Science Fiction</td>\n",
       "      <td>http://movies.disney.com/john-carter</td>\n",
       "      <td>49529</td>\n",
       "      <td>based on novel mars medallion space travel pri...</td>\n",
       "      <td>en</td>\n",
       "      <td>John Carter</td>\n",
       "      <td>John Carter is a war-weary, former military ca...</td>\n",
       "      <td>43.926995</td>\n",
       "      <td>[{\"name\": \"Walt Disney Pictures\", \"id\": 2}]</td>\n",
       "      <td>[{\"iso_3166_1\": \"US\", \"name\": \"United States o...</td>\n",
       "      <td>2012-03-07</td>\n",
       "      <td>284139100</td>\n",
       "      <td>132.0</td>\n",
       "      <td>[{\"iso_639_1\": \"en\", \"name\": \"English\"}]</td>\n",
       "      <td>Released</td>\n",
       "      <td>Lost in our world, found in another.</td>\n",
       "      <td>John Carter</td>\n",
       "      <td>6.1</td>\n",
       "      <td>2124</td>\n",
       "      <td>Taylor Kitsch Lynn Collins Samantha Morton Wil...</td>\n",
       "      <td>[{'name': 'Andrew Stanton', 'gender': 2, 'depa...</td>\n",
       "      <td>Andrew Stanton</td>\n",
       "    </tr>\n",
       "  </tbody>\n",
       "</table>\n",
       "</div>"
      ],
      "text/plain": [
       "   index     budget                                    genres  \\\n",
       "0      0  237000000  Action Adventure Fantasy Science Fiction   \n",
       "1      1  300000000                  Adventure Fantasy Action   \n",
       "2      2  245000000                    Action Adventure Crime   \n",
       "3      3  250000000               Action Crime Drama Thriller   \n",
       "4      4  260000000          Action Adventure Science Fiction   \n",
       "\n",
       "                                       homepage      id  \\\n",
       "0                   http://www.avatarmovie.com/   19995   \n",
       "1  http://disney.go.com/disneypictures/pirates/     285   \n",
       "2   http://www.sonypictures.com/movies/spectre/  206647   \n",
       "3            http://www.thedarkknightrises.com/   49026   \n",
       "4          http://movies.disney.com/john-carter   49529   \n",
       "\n",
       "                                            keywords original_language  \\\n",
       "0  culture clash future space war space colony so...                en   \n",
       "1  ocean drug abuse exotic island east india trad...                en   \n",
       "2         spy based on novel secret agent sequel mi6                en   \n",
       "3  dc comics crime fighter terrorist secret ident...                en   \n",
       "4  based on novel mars medallion space travel pri...                en   \n",
       "\n",
       "                             original_title  \\\n",
       "0                                    Avatar   \n",
       "1  Pirates of the Caribbean: At World's End   \n",
       "2                                   Spectre   \n",
       "3                     The Dark Knight Rises   \n",
       "4                               John Carter   \n",
       "\n",
       "                                            overview  popularity  \\\n",
       "0  In the 22nd century, a paraplegic Marine is di...  150.437577   \n",
       "1  Captain Barbossa, long believed to be dead, ha...  139.082615   \n",
       "2  A cryptic message from Bond’s past sends him o...  107.376788   \n",
       "3  Following the death of District Attorney Harve...  112.312950   \n",
       "4  John Carter is a war-weary, former military ca...   43.926995   \n",
       "\n",
       "                                production_companies  \\\n",
       "0  [{\"name\": \"Ingenious Film Partners\", \"id\": 289...   \n",
       "1  [{\"name\": \"Walt Disney Pictures\", \"id\": 2}, {\"...   \n",
       "2  [{\"name\": \"Columbia Pictures\", \"id\": 5}, {\"nam...   \n",
       "3  [{\"name\": \"Legendary Pictures\", \"id\": 923}, {\"...   \n",
       "4        [{\"name\": \"Walt Disney Pictures\", \"id\": 2}]   \n",
       "\n",
       "                                production_countries release_date     revenue  \\\n",
       "0  [{\"iso_3166_1\": \"US\", \"name\": \"United States o...   2009-12-10  2787965087   \n",
       "1  [{\"iso_3166_1\": \"US\", \"name\": \"United States o...   2007-05-19   961000000   \n",
       "2  [{\"iso_3166_1\": \"GB\", \"name\": \"United Kingdom\"...   2015-10-26   880674609   \n",
       "3  [{\"iso_3166_1\": \"US\", \"name\": \"United States o...   2012-07-16  1084939099   \n",
       "4  [{\"iso_3166_1\": \"US\", \"name\": \"United States o...   2012-03-07   284139100   \n",
       "\n",
       "   runtime                                   spoken_languages    status  \\\n",
       "0    162.0  [{\"iso_639_1\": \"en\", \"name\": \"English\"}, {\"iso...  Released   \n",
       "1    169.0           [{\"iso_639_1\": \"en\", \"name\": \"English\"}]  Released   \n",
       "2    148.0  [{\"iso_639_1\": \"fr\", \"name\": \"Fran\\u00e7ais\"},...  Released   \n",
       "3    165.0           [{\"iso_639_1\": \"en\", \"name\": \"English\"}]  Released   \n",
       "4    132.0           [{\"iso_639_1\": \"en\", \"name\": \"English\"}]  Released   \n",
       "\n",
       "                                          tagline  \\\n",
       "0                     Enter the World of Pandora.   \n",
       "1  At the end of the world, the adventure begins.   \n",
       "2                           A Plan No One Escapes   \n",
       "3                                 The Legend Ends   \n",
       "4            Lost in our world, found in another.   \n",
       "\n",
       "                                      title  vote_average  vote_count  \\\n",
       "0                                    Avatar           7.2       11800   \n",
       "1  Pirates of the Caribbean: At World's End           6.9        4500   \n",
       "2                                   Spectre           6.3        4466   \n",
       "3                     The Dark Knight Rises           7.6        9106   \n",
       "4                               John Carter           6.1        2124   \n",
       "\n",
       "                                                cast  \\\n",
       "0  Sam Worthington Zoe Saldana Sigourney Weaver S...   \n",
       "1  Johnny Depp Orlando Bloom Keira Knightley Stel...   \n",
       "2  Daniel Craig Christoph Waltz L\\u00e9a Seydoux ...   \n",
       "3  Christian Bale Michael Caine Gary Oldman Anne ...   \n",
       "4  Taylor Kitsch Lynn Collins Samantha Morton Wil...   \n",
       "\n",
       "                                                crew           director  \n",
       "0  [{'name': 'Stephen E. Rivkin', 'gender': 0, 'd...      James Cameron  \n",
       "1  [{'name': 'Dariusz Wolski', 'gender': 2, 'depa...     Gore Verbinski  \n",
       "2  [{'name': 'Thomas Newman', 'gender': 2, 'depar...         Sam Mendes  \n",
       "3  [{'name': 'Hans Zimmer', 'gender': 2, 'departm...  Christopher Nolan  \n",
       "4  [{'name': 'Andrew Stanton', 'gender': 2, 'depa...     Andrew Stanton  "
      ]
     },
     "execution_count": 5,
     "metadata": {},
     "output_type": "execute_result"
    }
   ],
   "source": [
    "movies_df.head()"
   ]
  },
  {
   "cell_type": "markdown",
   "id": "1cb2bf26",
   "metadata": {},
   "source": [
    "### checking the shape of the Dataframe"
   ]
  },
  {
   "cell_type": "code",
   "execution_count": 42,
   "id": "d444a381",
   "metadata": {},
   "outputs": [
    {
     "data": {
      "text/plain": [
       "(4803, 24)"
      ]
     },
     "execution_count": 42,
     "metadata": {},
     "output_type": "execute_result"
    }
   ],
   "source": [
    "movies_df.shape # 4803 rows and 24 columns"
   ]
  },
  {
   "cell_type": "code",
   "execution_count": 7,
   "id": "51342421",
   "metadata": {},
   "outputs": [
    {
     "data": {
      "text/plain": [
       "Index(['index', 'budget', 'genres', 'homepage', 'id', 'keywords',\n",
       "       'original_language', 'original_title', 'overview', 'popularity',\n",
       "       'production_companies', 'production_countries', 'release_date',\n",
       "       'revenue', 'runtime', 'spoken_languages', 'status', 'tagline', 'title',\n",
       "       'vote_average', 'vote_count', 'cast', 'crew', 'director'],\n",
       "      dtype='object')"
      ]
     },
     "execution_count": 7,
     "metadata": {},
     "output_type": "execute_result"
    }
   ],
   "source": [
    "movies_df.columns"
   ]
  },
  {
   "cell_type": "markdown",
   "id": "23326e03",
   "metadata": {},
   "source": [
    "##  Data Preparation and Data preprocessing"
   ]
  },
  {
   "cell_type": "markdown",
   "id": "c27c6cd5",
   "metadata": {},
   "source": [
    "Let's select the best  features to work with, these features will be the important features we need to identify from our feature extraction and they can help with identifying movies that are similar"
   ]
  },
  {
   "cell_type": "code",
   "execution_count": 8,
   "id": "5e4f747a",
   "metadata": {},
   "outputs": [],
   "source": [
    "select_features = [\"genres\", \"keywords\", \"cast\", \"tagline\", \"director\"]"
   ]
  },
  {
   "cell_type": "markdown",
   "id": "476f0be6",
   "metadata": {},
   "source": [
    "Recall, This is a recommendation system algorithm. What we are interested in identyfing is how we can users recommend movies \n",
    "based on :\n",
    "*1. movies they select , content*\n",
    "*2.based on popularity*\n",
    "*3.based on the group they identified with , the people they work with there.*\n",
    "*4.The past record of movies they like, ideally--Netflix recommend movies to you based on the this strategy.*"
   ]
  },
  {
   "cell_type": "markdown",
   "id": "453ac60c",
   "metadata": {},
   "source": [
    "## Dealing with missing values"
   ]
  },
  {
   "cell_type": "markdown",
   "id": "2a8d878c",
   "metadata": {},
   "source": [
    "As part of our Data preprocessing, our data will contain missing values , so lets with missing values from the selected columns"
   ]
  },
  {
   "cell_type": "code",
   "execution_count": 11,
   "id": "27396f29",
   "metadata": {},
   "outputs": [],
   "source": [
    "for col in select_features:\n",
    "    movies_df[col] = movies_df[col].fillna(\"\") "
   ]
  },
  {
   "cell_type": "markdown",
   "id": "f0cbf083",
   "metadata": {},
   "source": [
    "Checking if there are stll missing values in the Data frame"
   ]
  },
  {
   "cell_type": "code",
   "execution_count": 23,
   "id": "b5abfd09",
   "metadata": {},
   "outputs": [
    {
     "data": {
      "text/plain": [
       "genres      0\n",
       "keywords    0\n",
       "cast        0\n",
       "tagline     0\n",
       "director    0\n",
       "dtype: int64"
      ]
     },
     "execution_count": 23,
     "metadata": {},
     "output_type": "execute_result"
    }
   ],
   "source": [
    "movies_df[select_features].isna().sum() # There are no missing values in the  Dataframe"
   ]
  },
  {
   "cell_type": "markdown",
   "id": "189a6faa",
   "metadata": {},
   "source": [
    "### Combinning the columns in the Dataframe to text"
   ]
  },
  {
   "cell_type": "code",
   "execution_count": 9,
   "id": "817970dd",
   "metadata": {},
   "outputs": [],
   "source": [
    "# so we need to combine these columns together"
   ]
  },
  {
   "cell_type": "code",
   "execution_count": 34,
   "id": "995117f1",
   "metadata": {},
   "outputs": [],
   "source": [
    "combined_features = movies_df[\"genres\"] + \" \" + movies_df[\"keywords\"] + \" \" +movies_df[\"cast\"] + \" \"+ movies_df[\"tagline\"] + movies_df[\"director\"]"
   ]
  },
  {
   "cell_type": "markdown",
   "id": "19a8b9a5",
   "metadata": {},
   "source": [
    "We have the combined columns in text , Next is to convert it into numeric using the TfidVectorizer transformer"
   ]
  },
  {
   "cell_type": "markdown",
   "id": "2cceece9",
   "metadata": {},
   "source": [
    "vectorizer = TfidfVectorizer()\n",
    "vectorized_features = vectorizer.fit_transform(combined_features)"
   ]
  },
  {
   "cell_type": "markdown",
   "id": "5e1eb0d5",
   "metadata": {},
   "source": [
    "What we do next , is to use our cosine_similarity to get our confidence intervals in the movie. ie to get the similarity values between the movies "
   ]
  },
  {
   "cell_type": "code",
   "execution_count": 72,
   "id": "59eddb0d",
   "metadata": {},
   "outputs": [],
   "source": [
    "# The similarity value is computed for all 4803 movies individually , hence the reason for 4803 * 4803 shape.\n",
    "\n",
    "similarity_values = cosine_similarity(vectorized_features)"
   ]
  },
  {
   "cell_type": "markdown",
   "id": "1984df0a",
   "metadata": {},
   "source": [
    "So we have the similarity computed for all movies, lets store all the names of movies in a column . This will help \n",
    "us identify movies in the dataset and help select the closest one selected by users"
   ]
  },
  {
   "cell_type": "code",
   "execution_count": 50,
   "id": "d090ee1d",
   "metadata": {},
   "outputs": [],
   "source": [
    "movies_list = movies_df[\"title\"].to_list()"
   ]
  },
  {
   "cell_type": "markdown",
   "id": "98c6c380",
   "metadata": {},
   "source": [
    "From the user's part, lets define a function that will take input as movie from users ,the library  difflib  will help return similary movies based on the one enter by user"
   ]
  },
  {
   "cell_type": "code",
   "execution_count": 56,
   "id": "bba65289",
   "metadata": {},
   "outputs": [
    {
     "name": "stdout",
     "output_type": "stream",
     "text": [
      "what is the name of the movie you will like to watch ? iron man\n"
     ]
    }
   ],
   "source": [
    "subscriber_movie = input(\"what is the name of the movie you will like to watch ? \")"
   ]
  },
  {
   "cell_type": "code",
   "execution_count": 61,
   "id": "32d7c11c",
   "metadata": {},
   "outputs": [],
   "source": [
    "close_match = difflib.get_close_matches(subscriber_movie , movies_list)\n",
    "closest_match = close_match[0]"
   ]
  },
  {
   "cell_type": "code",
   "execution_count": 64,
   "id": "b712cea3",
   "metadata": {},
   "outputs": [],
   "source": [
    "#Lets find, the index which that movie is located in the dataframe\n",
    "index_movie = movies_df[movies_df[\"title\"] == closest_match][\"index\"].values[0] "
   ]
  },
  {
   "cell_type": "code",
   "execution_count": 76,
   "id": "320f5e8d",
   "metadata": {},
   "outputs": [],
   "source": [
    "# This will returned all the similarity values of movies (a list of tuples with firs value index location and second the value itself) sorted by the index\n",
    "\n",
    "subscriber_similarity_value = list(enumerate(similarity_values[index_movie])) # To select the similarity value of the movie in index 68 compared to others"
   ]
  },
  {
   "cell_type": "code",
   "execution_count": 83,
   "id": "70995ba3",
   "metadata": {},
   "outputs": [],
   "source": [
    "# we can sort it based on the similarity value itself, this will returned the list in an reverse othe, the highest similarity movi\n",
    "#will come first\n",
    "\n",
    "sorted_similarity_value = sorted(subscriber_similarity_value, key = lambda tup : tup[1] , reverse = True)"
   ]
  },
  {
   "cell_type": "code",
   "execution_count": 92,
   "id": "45759076",
   "metadata": {},
   "outputs": [
    {
     "name": "stdout",
     "output_type": "stream",
     "text": [
      "Movies recommended for you are : \n",
      "\n",
      "0 Iron Man\n",
      "1 Iron Man 2\n",
      "2 Iron Man 3\n",
      "3 Avengers: Age of Ultron\n",
      "4 The Avengers\n",
      "5 Captain America: Civil War\n",
      "6 Captain America: The Winter Soldier\n",
      "7 Ant-Man\n",
      "8 X-Men\n",
      "9 Made\n",
      "10 X-Men: Apocalypse\n",
      "11 X2\n",
      "12 The Incredible Hulk\n",
      "13 The Helix... Loaded\n",
      "14 X-Men: First Class\n",
      "15 X-Men: Days of Future Past\n",
      "16 Guardians of the Galaxy\n",
      "17 Kick-Ass 2\n",
      "18 Deadpool\n",
      "19 Thor: The Dark World\n"
     ]
    }
   ],
   "source": [
    "print(\"Movies recommended for you are :\", \"\\n\")\n",
    "\n",
    "ind = 0\n",
    "\n",
    "for similarity_score in sorted_similarity_value:\n",
    "    title_of_movie = movies_df[movies_df[\"index\"] == similarity_score[0]][\"title\"].values[0]\n",
    "    if ind < 20 : \n",
    "        print(ind , title_of_movie)\n",
    "        ind = ind + 1"
   ]
  },
  {
   "cell_type": "code",
   "execution_count": 88,
   "id": "145a14cd",
   "metadata": {},
   "outputs": [],
   "source": [
    "# We can also use a function to help us print out the movies name\n",
    "\n",
    "def select_first_20():\n",
    "    movie_count = 0\n",
    "    \n",
    "    for ind_value in sorted_similarity_value:\n",
    "        if movie_count < 20 :\n",
    "            print(movies_list[ind_value[0]])\n",
    "            movie_count = movie_count + 1"
   ]
  },
  {
   "cell_type": "code",
   "execution_count": 89,
   "id": "1785b0a7",
   "metadata": {},
   "outputs": [
    {
     "name": "stdout",
     "output_type": "stream",
     "text": [
      "Iron Man\n",
      "Iron Man 2\n",
      "Iron Man 3\n",
      "Avengers: Age of Ultron\n",
      "The Avengers\n",
      "Captain America: Civil War\n",
      "Captain America: The Winter Soldier\n",
      "Ant-Man\n",
      "X-Men\n",
      "Made\n",
      "X-Men: Apocalypse\n",
      "X2\n",
      "The Incredible Hulk\n",
      "The Helix... Loaded\n",
      "X-Men: First Class\n",
      "X-Men: Days of Future Past\n",
      "Guardians of the Galaxy\n",
      "Kick-Ass 2\n",
      "Deadpool\n",
      "Thor: The Dark World\n"
     ]
    }
   ],
   "source": [
    "select_first_20()"
   ]
  },
  {
   "cell_type": "code",
   "execution_count": null,
   "id": "da239455",
   "metadata": {},
   "outputs": [],
   "source": []
  },
  {
   "cell_type": "code",
   "execution_count": 90,
   "id": "f19d985e",
   "metadata": {},
   "outputs": [],
   "source": [
    "# Now lets build a pipeline that takess movies name  from user and return list of movies based on the similarity scores \n",
    "# of movie"
   ]
  },
  {
   "cell_type": "code",
   "execution_count": null,
   "id": "adb5ed5a",
   "metadata": {},
   "outputs": [],
   "source": [
    "subscriber_movie = input(\"what is the name of the movie you will like to watch ? \")\n",
    "close_match = difflib.get_close_matches(subscriber_movie , movies_list)\n",
    "closest_match = close_match[0]\n",
    "index_movie = movies_df[movies_df[\"title\"] == closest_match][\"index\"].values[0] \n",
    "subscriber_similarity_value = list(enumerate(similarity_values[index_movie]))\n",
    "sorted_similarity_value = sorted(subscriber_similarity_value, key = lambda tup : tup[1] , reverse = True)\n",
    "print(\"Movies recommended for you are :\", \"\\n\")\n",
    "\n",
    "ind = 0\n",
    "\n",
    "for similarity_score in sorted_similarity_value:\n",
    "    title_of_movie = movies_df[movies_df[\"index\"] == similarity_score[0]][\"title\"].values[0]\n",
    "    if ind < 20 : \n",
    "        print(ind , title_of_movie)\n",
    "        ind = ind + 1"
   ]
  },
  {
   "cell_type": "markdown",
   "id": "156a5914",
   "metadata": {},
   "source": [
    "Now , Lets also include a try and except code that will take care of movies whose keywords are not  closer to the movies in the dataset?"
   ]
  },
  {
   "cell_type": "code",
   "execution_count": 120,
   "id": "2c4ac0e9",
   "metadata": {},
   "outputs": [
    {
     "name": "stdout",
     "output_type": "stream",
     "text": [
      "what is the name of the movie you will like to watch ? world war\n",
      "Movies recommended for you are : \n",
      "\n",
      "0 World War Z\n",
      "1 The Sum of All Fears\n",
      "2 Land of the Dead\n",
      "3 Sabotage\n",
      "4 The Helix... Loaded\n",
      "5 Re-Kill\n",
      "6 Warm Bodies\n",
      "7 Maggie\n",
      "8 If I Stay\n",
      "9 Shame\n",
      "10 No Escape\n",
      "11 The Walk\n",
      "12 And So It Goes\n",
      "13 The Lone Ranger\n",
      "14 13 Hours: The Secret Soldiers of Benghazi\n",
      "15 Halloween II\n",
      "16 The Last Days on Mars\n",
      "17 Resident Evil\n",
      "18 Superman IV: The Quest for Peace\n",
      "19 Everything Put Together\n"
     ]
    }
   ],
   "source": [
    "subscriber_movie = input(\"what is the name of the movie you will like to watch ? \")\n",
    "close_match = difflib.get_close_matches(subscriber_movie , movies_list)\n",
    "try :\n",
    "    closest_match = close_match[0]\n",
    "    \n",
    "except IndexError :\n",
    "    closest_match = \"Avatar\"\n",
    "\n",
    "\n",
    "index_movie = movies_df[movies_df[\"title\"] == closest_match][\"index\"].values[0] \n",
    "subscriber_similarity_value = list(enumerate(similarity_values[index_movie]))\n",
    "sorted_similarity_value = sorted(subscriber_similarity_value, key = lambda tup : tup[1] , reverse = True)\n",
    "print(\"Movies recommended for you are :\", \"\\n\")\n",
    "\n",
    "ind = 0\n",
    "\n",
    "for similarity_score in sorted_similarity_value:\n",
    "    title_of_movie = movies_df[movies_df[\"index\"] == similarity_score[0]][\"title\"].values[0]\n",
    "    if ind < 20 : \n",
    "        print(ind , title_of_movie)\n",
    "        ind = ind + 1"
   ]
  }
 ],
 "metadata": {
  "kernelspec": {
   "display_name": "Python 3 (ipykernel)",
   "language": "python",
   "name": "python3"
  },
  "language_info": {
   "codemirror_mode": {
    "name": "ipython",
    "version": 3
   },
   "file_extension": ".py",
   "mimetype": "text/x-python",
   "name": "python",
   "nbconvert_exporter": "python",
   "pygments_lexer": "ipython3",
   "version": "3.9.12"
  }
 },
 "nbformat": 4,
 "nbformat_minor": 5
}
